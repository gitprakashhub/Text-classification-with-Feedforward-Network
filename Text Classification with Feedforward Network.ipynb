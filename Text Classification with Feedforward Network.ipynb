{
 "cells": [
  {
   "cell_type": "markdown",
   "metadata": {},
   "source": [
    "# Text Classification with a Feedforward Network\n",
    "\n",
    "\n",
    "The goal is to develop a Feedforward neural network for text classification.\n",
    "\n",
    "\n",
    "\n",
    "For that purpose, you will implement:\n",
    "\n",
    "- Text processing methods for transforming raw text data into input vectors for your network\n",
    "\n",
    "\n",
    "- A Feedforward network consisting of:\n",
    "    - **One-hot** input layer mapping words into an **Embedding weight matrix**\n",
    "    - **One hidden layer** computing the mean embedding vector of all words in input followed by a **ReLU activation function** \n",
    "    - **Output layer** with a **softmax** activation. \n",
    "\n",
    "\n",
    "- The Stochastic Gradient Descent (SGD) algorithm with **back-propagation** to learn the weights of your Neural network. Your algorithm should:\n",
    "    - Use (and minimise) the **Categorical Cross-entropy loss** function\n",
    "    - Perform a **Forward pass** to compute intermediate outputs \n",
    "    - Perform a **Backward pass** to compute gradients and update all sets of weights \n",
    "    - Implement and use **Dropout** after each hidden layer for regularisation\n",
    "\n",
    "\n",
    "\n",
    "- Discuss how did you choose hyperparameters? You can tune the learning rate (hint: choose small values), embedding size {e.g. 50, 300, 500}, the dropout rate {e.g. 0.2, 0.5} and the learning rate. Please use tables or graphs to show training and validation performance for each hyperparameter combination. \n",
    "\n",
    "\n",
    "\n",
    "- After training a model, plot the learning process (i.e. training and validation loss in each epoch) using a line plot and report accuracy. Does your model overfit, underfit or is about right?\n",
    "\n",
    "\n",
    "\n",
    "- Re-train your network by using pre-trained embeddings ([GloVe](https://nlp.stanford.edu/projects/glove/)) trained on large corpora. Instead of randomly initialising the embedding weights matrix, you should initialise it with the pre-trained weights. During training, you should not update them (i.e. weight freezing) and backprop should stop before computing gradients for updating embedding weights. Report results by performing hyperparameter tuning and plotting the learning process. Do you get better performance? \n",
    "\n",
    "\n",
    "\n",
    "- Extend you Feedforward network by adding more hidden layers (e.g. one more or two). How does it affect the performance? Note: You need to repeat hyperparameter tuning, but the number of combinations grows exponentially. Therefore, you need to choose a subset of all possible combinations \n",
    "\n",
    "\n",
    "- Provide well documented and commented code describing all of your choices. In general, you are free to make decisions about text processing (e.g. punctuation, numbers, vocabulary size) and hyperparameter values. We expect to see justifications and discussion for all of your choices. \n",
    "\n",
    "\n",
    "\n",
    "- Provide efficient solutions by using Numpy arrays when possible. Executing the whole notebook with your code should not take more than 10 minutes on any standard computer (e.g. Intel Core i5 CPU, 8 or 16GB RAM) excluding hyperparameter tuning runs and loading the pretrained vectors.\n",
    "\n",
    "\n",
    "### Data \n",
    "\n",
    "The data you will use for the task is a subset of the [AG News Corpus](http://groups.di.unipi.it/~gulli/AG_corpus_of_news_articles.html) and you can find it in the `./data_topic` folder in CSV format:\n",
    "\n",
    "- `data_topic/train.csv`: contains 2,400 news articles, 800 for each class to be used for training.\n",
    "- `data_topic/dev.csv`: contains 150 news articles, 50 for each class to be used for hyperparameter selection and monitoring the training process.\n",
    "- `data_topic/test.csv`: contains 900 news articles, 300 for each class to be used for testing.\n",
    "\n",
    "### Pre-trained Embeddings\n",
    "\n",
    "You can download pre-trained GloVe embeddings trained on Common Crawl (840B tokens, 2.2M vocab, cased, 300d vectors, 2.03 GB download) from [here](http://nlp.stanford.edu/data/glove.840B.300d.zip). No need to unzip, the file is large.\n",
    "\n",
    "### Save Memory\n",
    "\n",
    "To save RAM, when you finish each experiment you can delete the weights of your network using `del W` followed by Python's garbage collector `gc.collect()`\n",
    "\n",
    "\n"
   ]
  },
  {
   "cell_type": "code",
   "execution_count": 1,
   "metadata": {
    "ExecuteTime": {
     "end_time": "2020-04-02T15:00:18.625532Z",
     "start_time": "2020-04-02T15:00:17.377733Z"
    },
    "scrolled": true
   },
   "outputs": [],
   "source": [
    "import pandas as pd\n",
    "import numpy as np\n",
    "from collections import Counter\n",
    "import re\n",
    "import matplotlib.pyplot as plt\n",
    "from sklearn.metrics import accuracy_score, precision_score, recall_score, f1_score\n",
    "import random\n",
    "from time import localtime, strftime\n",
    "from scipy.stats import spearmanr,pearsonr\n",
    "import zipfile\n",
    "import gc\n",
    "\n",
    "# fixing random seed for reproducibility\n",
    "random.seed(123)\n",
    "np.random.seed(123)\n"
   ]
  },
  {
   "cell_type": "markdown",
   "metadata": {},
   "source": [
    "## Transform Raw texts into training and development data\n",
    "\n",
    "First, you need to load the training, development and test sets from their corresponding CSV files (tip: you can use Pandas dataframes)."
   ]
  },
  {
   "cell_type": "code",
   "execution_count": 2,
   "metadata": {
    "ExecuteTime": {
     "end_time": "2020-04-02T14:26:39.748484Z",
     "start_time": "2020-04-02T14:26:39.727404Z"
    },
    "scrolled": true
   },
   "outputs": [],
   "source": [
    "train_set = pd.read_csv('./data_topic/train.csv', names=['label', 'text'])\n",
    "dev_set = pd.read_csv('./data_topic/dev.csv', names=['label', 'text'])\n",
    "test_set = pd.read_csv('./data_topic/test.csv', names=['label', 'text'])"
   ]
  },
  {
   "cell_type": "markdown",
   "metadata": {},
   "source": [
    "# Create input representations\n",
    "\n",
    "\n",
    "To train your Feedforward network, you first need to obtain input representations given a vocabulary. One-hot encoding requires large memory capacity. Therefore, we will instead represent documents as lists of vocabulary indices (each word corresponds to a vocabulary index). \n",
    "\n",
    "\n",
    "## Text Pre-Processing Pipeline\n",
    "\n",
    "To obtain a vocabulary of words. You should: \n",
    "- tokenise all texts into a list of unigrams (tip: you can re-use the functions from Assignment 1) \n",
    "- remove stop words (using the one provided or one of your preference) \n",
    "- remove unigrams appearing in less than K documents\n",
    "- use the remaining to create a vocabulary of the top-N most frequent unigrams in the entire corpus.\n"
   ]
  },
  {
   "cell_type": "code",
   "execution_count": 3,
   "metadata": {
    "ExecuteTime": {
     "end_time": "2020-04-02T14:26:40.851926Z",
     "start_time": "2020-04-02T14:26:40.847500Z"
    },
    "scrolled": true
   },
   "outputs": [],
   "source": [
    "stop_words = ['a','in','on','at','and','or', \n",
    "              'to', 'the', 'of', 'an', 'by', \n",
    "              'as', 'is', 'was', 'were', 'been', 'be', \n",
    "              'are','for', 'this', 'that', 'these', 'those', 'you', 'i', 'if',\n",
    "             'it', 'he', 'she', 'we', 'they', 'will', 'have', 'has',\n",
    "              'do', 'did', 'can', 'could', 'who', 'which', 'what',\n",
    "              'but', 'not', 'there', 'no', 'does', 'not', 'so', 've', 'their',\n",
    "             'his', 'her', 'they', 'them', 'from', 'with', 'its']\n"
   ]
  },
  {
   "cell_type": "markdown",
   "metadata": {},
   "source": [
    "### Unigram extraction from a document\n",
    "\n",
    "You first need to implement the `extract_ngrams` function. It takes as input:\n",
    "- `x_raw`: a string corresponding to the raw text of a document\n",
    "- `ngram_range`: a tuple of two integers denoting the type of ngrams you want to extract, e.g. (1,2) denotes extracting unigrams and bigrams.\n",
    "- `token_pattern`: a string to be used within a regular expression to extract all tokens. Note that data is already tokenised so you could opt for a simple white space tokenisation.\n",
    "- `stop_words`: a list of stop words\n",
    "- `vocab`: a given vocabulary. It should be used to extract specific features.\n",
    "\n",
    "and returns:\n",
    "\n",
    "- a list of all extracted features.\n"
   ]
  },
  {
   "cell_type": "code",
   "execution_count": 4,
   "metadata": {
    "ExecuteTime": {
     "end_time": "2020-05-11T08:23:17.181553Z",
     "start_time": "2020-05-11T08:23:17.178314Z"
    },
    "scrolled": true
   },
   "outputs": [],
   "source": [
    "def extract_ngrams(x_raw, ngram_range=(1,3), token_pattern=r'\\b[A-Za-z][A-Za-z]+\\b', \n",
    "                   stop_words=[], vocab=set()):\n",
    "    \n",
    "    tokenRE = re.compile(token_pattern)\n",
    "    \n",
    "    # first extract all unigrams by tokenising\n",
    "    x_uni = [w for w in tokenRE.findall(str(x_raw).lower(),) if w not in stop_words]\n",
    "    \n",
    "    \n",
    "    # this is to store the ngrams to be returned\n",
    "    x = []\n",
    "    \n",
    "\n",
    "    \n",
    "    if ngram_range[0]==1:\n",
    "        x = x_uni\n",
    "\n",
    "\n",
    "    # generate n-grams from the available unigrams x_uni\n",
    "    ngrams = []\n",
    "    for n in range(ngram_range[0], ngram_range[1]+1):\n",
    "\n",
    "    # ignore unigrams\n",
    "        if n==1: continue\n",
    "\n",
    "        # pass a list of lists as an argument for zip\n",
    "        arg_list = [x_uni]+[x_uni[i:] for i in range(1, n)]\n",
    "\n",
    "        # extract tuples of n-grams using zip\n",
    "        # for bigram this should look: list(zip(x_uni, x_uni[1:]))\n",
    "        # align each item x[i] in x_uni with the next one x[i+1]. \n",
    "        # Note that x_uni and x_uni[1:] have different lenghts\n",
    "        # but zip ignores redundant elements at the end of the second list\n",
    "        # Alternatively, this could be done with for loops\n",
    "        x_ngram = list(zip(*arg_list))\n",
    "        ngrams.append(x_ngram)\n",
    "\n",
    "\n",
    "    for n in ngrams:\n",
    "        for t in n:\n",
    "            x.append(t)\n",
    "\n",
    "    if len(vocab)>0:\n",
    "        x = [w for w in x if w in vocab]\n",
    "        \n",
    "    return x\n",
    "\n",
    "\n",
    "\n",
    "\n",
    "\n"
   ]
  },
  {
   "cell_type": "markdown",
   "metadata": {},
   "source": [
    "### Create a vocabulary of n-grams\n",
    "\n",
    "Then the `get_vocab` function will be used to (1) create a vocabulary of ngrams; (2) count the document frequencies of ngrams; (3) their raw frequency. It takes as input:\n",
    "- `X_raw`: a list of strings each corresponding to the raw text of a document\n",
    "- `ngram_range`: a tuple of two integers denoting the type of ngrams you want to extract, e.g. (1,2) denotes extracting unigrams and bigrams.\n",
    "- `token_pattern`: a string to be used within a regular expression to extract all tokens. Note that data is already tokenised so you could opt for a simple white space tokenisation.\n",
    "- `stop_words`: a list of stop words\n",
    "- `min_df`: keep ngrams with a minimum document frequency.\n",
    "- `keep_topN`: keep top-N more frequent ngrams.\n",
    "\n",
    "and returns:\n",
    "\n",
    "- `vocab`: a set of the n-grams that will be used as features.\n",
    "- `df`: a Counter (or dict) that contains ngrams as keys and their corresponding document frequency as values.\n",
    "- `ngram_counts`: counts of each ngram in vocab\n"
   ]
  },
  {
   "cell_type": "code",
   "execution_count": 5,
   "metadata": {
    "ExecuteTime": {
     "end_time": "2020-04-02T14:26:42.563876Z",
     "start_time": "2020-04-02T14:26:42.557967Z"
    },
    "scrolled": true
   },
   "outputs": [],
   "source": [
    "def get_vocab(X_raw, ngram_range=(1,3), token_pattern=r'\\b[A-Za-z][A-Za-z]+\\b', \n",
    "              min_df=0, keep_topN=0, \n",
    "              stop_words=[]):\n",
    "    \n",
    "    \n",
    "    tokenRE = re.compile(token_pattern)\n",
    "    \n",
    "    df = Counter()\n",
    "    ngram_counts = Counter()\n",
    "    vocab = set()\n",
    "    \n",
    "    # interate through each raw text\n",
    "    for x in X_raw:\n",
    "        \n",
    "        x_ngram = extract_ngrams(x, ngram_range=ngram_range, token_pattern=token_pattern, \n",
    "                                 stop_words=stop_words)\n",
    "        \n",
    "        #update doc and ngram frequencies \n",
    "        df.update(list(set(x_ngram)))\n",
    "        ngram_counts.update(x_ngram)\n",
    "\n",
    "    # obtain a vocabulary as a set. \n",
    "    # Keep elements with doc frequency > minimum doc freq (min_df)\n",
    "    # Note that df contains all te\n",
    "    vocab = set([w for w in df if df[w]>=min_df])\n",
    "    \n",
    "    # keep the top N most freqent \n",
    "    if keep_topN>0:\n",
    "        vocab = set([w[0] for w in ngram_counts.most_common(keep_topN) \n",
    "                     if w[0] in vocab])\n",
    "    \n",
    "    \n",
    "    return vocab, df, ngram_counts"
   ]
  },
  {
   "cell_type": "code",
   "execution_count": 6,
   "metadata": {},
   "outputs": [],
   "source": [
    "raw_text = train_set.text.to_list()\n",
    "labels = train_set.label.to_numpy() - 1 # subtract 1 to change the label range from (1,3) to (0,2)"
   ]
  },
  {
   "cell_type": "markdown",
   "metadata": {},
   "source": [
    "Now you should use `get_vocab` to create your vocabulary and get document and raw frequencies of unigrams:"
   ]
  },
  {
   "cell_type": "code",
   "execution_count": 7,
   "metadata": {
    "ExecuteTime": {
     "end_time": "2020-04-02T14:26:43.577997Z",
     "start_time": "2020-04-02T14:26:43.478950Z"
    },
    "scrolled": true
   },
   "outputs": [
    {
     "name": "stdout",
     "output_type": "stream",
     "text": [
      "0.09075689315795898\n"
     ]
    }
   ],
   "source": [
    "import time\n",
    "start = time.time()\n",
    "vocabulary, doc_freq, raw_freq = get_vocab(X_raw=raw_text, ngram_range=(1,1), stop_words=stop_words)\n",
    "print(time.time() - start)"
   ]
  },
  {
   "cell_type": "code",
   "execution_count": 8,
   "metadata": {},
   "outputs": [],
   "source": [
    "raw_text_dev = dev_set.text.to_list()\n",
    "labels_dev = dev_set.label.to_numpy() - 1 # subtract 1 to change the label range from (1,3) to (0,2)\n",
    "\n",
    "raw_text_test = test_set.text.to_list()\n",
    "labels_test = test_set.label.to_numpy() - 1 # subtract 1 to change the label range from (1,3) to (0,2)"
   ]
  },
  {
   "cell_type": "code",
   "execution_count": 9,
   "metadata": {},
   "outputs": [],
   "source": [
    "vocabulary_dev, doc_freq_dev, raw_freq_dev = get_vocab(X_raw=raw_text_dev, ngram_range=(1, 1), stop_words=stop_words)\n",
    "vocabulary_test, doc_freq_test, raw_freq_test = get_vocab(X_raw=raw_text_test, ngram_range=(1, 1), stop_words=stop_words)"
   ]
  },
  {
   "cell_type": "markdown",
   "metadata": {},
   "source": [
    "Then, you need to create vocabulary id -> word and word -> vocabulary id dictionaries for reference:"
   ]
  },
  {
   "cell_type": "code",
   "execution_count": 10,
   "metadata": {
    "ExecuteTime": {
     "end_time": "2020-04-02T14:26:44.069661Z",
     "start_time": "2020-04-02T14:26:44.065058Z"
    },
    "scrolled": true
   },
   "outputs": [],
   "source": [
    "voc_word = {}\n",
    "word_voc = {}\n",
    "\n",
    "for idx, word in enumerate(sorted(vocabulary.union(vocabulary_dev).union(vocabulary_test))):\n",
    "    voc_word[idx] = word\n",
    "    word_voc[word] = idx"
   ]
  },
  {
   "cell_type": "markdown",
   "metadata": {},
   "source": [
    "### Convert the list of unigrams  into a list of vocabulary indices"
   ]
  },
  {
   "cell_type": "markdown",
   "metadata": {},
   "source": [
    "Storing actual one-hot vectors into memory for all words in the entire data set is prohibitive. Instead, we will store word indices in the vocabulary and look-up the weight matrix. This is equivalent of doing a dot product between an one-hot vector and the weight matrix. \n",
    "\n",
    "First, represent documents in train, dev and test sets as lists of words in the vocabulary:"
   ]
  },
  {
   "cell_type": "code",
   "execution_count": 11,
   "metadata": {
    "ExecuteTime": {
     "end_time": "2020-04-02T14:26:45.047887Z",
     "start_time": "2020-04-02T14:26:44.920631Z"
    },
    "scrolled": true
   },
   "outputs": [],
   "source": [
    "train_unigrams = list(extract_ngrams(x_raw=txt, ngram_range=(1, 1),\n",
    "                                     vocab=sorted(vocabulary.union(vocabulary_dev).union(vocabulary_test)), \n",
    "                                     stop_words=stop_words) for txt in raw_text)\n",
    "\n",
    "dev_unigrams = list(extract_ngrams(x_raw=txt, ngram_range=(1, 1),\n",
    "                                   vocab=sorted(vocabulary.union(vocabulary_dev).union(vocabulary_test)),\n",
    "                                   stop_words=stop_words) for txt in raw_text_dev)\n",
    "\n",
    "test_unigrams = list(extract_ngrams(x_raw=txt, ngram_range=(1, 1),\n",
    "                                    vocab=sorted(vocabulary.union(vocabulary_dev).union(vocabulary_test)),\n",
    "                                    stop_words=stop_words) for txt in raw_text_test)"
   ]
  },
  {
   "cell_type": "markdown",
   "metadata": {},
   "source": [
    "Then convert them into lists of indices in the vocabulary:"
   ]
  },
  {
   "cell_type": "code",
   "execution_count": 12,
   "metadata": {
    "ExecuteTime": {
     "end_time": "2020-04-02T14:26:45.752658Z",
     "start_time": "2020-04-02T14:26:45.730409Z"
    },
    "scrolled": true
   },
   "outputs": [],
   "source": [
    "train_idx = list([word_voc[x] for x in y] for y in train_unigrams)\n",
    "\n",
    "dev_idx = list([word_voc[x] for x in y] for y in dev_unigrams)\n",
    "\n",
    "test_idx = list([word_voc[x] for x in y] for y in test_unigrams)"
   ]
  },
  {
   "cell_type": "markdown",
   "metadata": {},
   "source": [
    "# Network Architecture\n",
    "\n",
    "Your network should pass each word index into its corresponding embedding by looking-up on the embedding matrix and then compute the first hidden layer $\\mathbf{h}_1$:\n",
    "\n",
    "$$\\mathbf{h}_1 = \\frac{1}{|x|}\\sum_i W^e_i, i \\in x$$\n",
    "\n",
    "where $|x|$ is the number of words in the document and $W^e$ is an embedding matrix $|V|\\times d$, $|V|$ is the size of the vocabulary and $d$ the embedding size.\n",
    "\n",
    "Then $\\mathbf{h}_1$ should be passed through a ReLU activation function:\n",
    "\n",
    "$$\\mathbf{a}_1 = relu(\\mathbf{h}_1)$$\n",
    "\n",
    "Finally the hidden layer is passed to the output layer:\n",
    "\n",
    "\n",
    "$$\\mathbf{y} = \\text{softmax}(\\mathbf{a}_1W) $$ \n",
    "where $W$ is a matrix $d \\times |{\\cal Y}|$, $|{\\cal Y}|$ is the number of classes.\n",
    "\n",
    "During training, $\\mathbf{a}_1$ should be multiplied with a dropout mask vector (elementwise) for regularisation before it is passed to the output layer.\n",
    "\n",
    "You can extend to a deeper architecture by passing a hidden layer to another one:\n",
    "\n",
    "$$\\mathbf{h_i} = \\mathbf{a}_{i-1}W_i $$\n",
    "\n",
    "$$\\mathbf{a_i} = relu(\\mathbf{h_i}) $$\n",
    "\n"
   ]
  },
  {
   "cell_type": "markdown",
   "metadata": {},
   "source": [
    "# Network Training\n",
    "\n",
    "First we need to define the parameters of our network by initiliasing the weight matrices. For that purpose, you should implement the `network_weights` function that takes as input:\n",
    "\n",
    "- `vocab_size`: the size of the vocabulary\n",
    "- `embedding_dim`: the size of the word embeddings\n",
    "- `hidden_dim`: a list of the sizes of any subsequent hidden layers. Empty if there are no hidden layers between the average embedding and the output layer \n",
    "- `num_classes`: the number of the classes for the output layer\n",
    "\n",
    "and returns:\n",
    "\n",
    "- `W`: a dictionary mapping from layer index (e.g. 0 for the embedding matrix) to the corresponding weight matrix initialised with small random numbers (hint: use numpy.random.uniform with from -0.1 to 0.1)\n",
    "\n",
    "Make sure that the dimensionality of each weight matrix is compatible with the previous and next weight matrix, otherwise you won't be able to perform forward and backward passes. Consider also using np.float32 precision to save memory."
   ]
  },
  {
   "cell_type": "code",
   "execution_count": 13,
   "metadata": {
    "ExecuteTime": {
     "end_time": "2020-04-02T15:41:20.918617Z",
     "start_time": "2020-04-02T15:41:20.915597Z"
    },
    "scrolled": true
   },
   "outputs": [],
   "source": [
    "def network_weights(vocab_size=1000, embedding_dim=300, \n",
    "                    hidden_dim=[], num_classes=3, init_val = 0.5):\n",
    "    \n",
    "    # fixing random seed for reproducibility\n",
    "    np.random.seed(123)\n",
    "    \n",
    "    # Dimensions\n",
    "    dim = [vocab_size, embedding_dim] + hidden_dim + [num_classes]\n",
    "\n",
    "    # Weight initialisation (here He Initialisation)\n",
    "    W = [np.random.randn(*size).astype(np.float32) * np.sqrt(2 / (size[0]))\n",
    "         for size in zip(*(dim[i:] for i in range(2)))]\n",
    "\n",
    "    return W\n",
    "    "
   ]
  },
  {
   "cell_type": "code",
   "execution_count": 14,
   "metadata": {
    "ExecuteTime": {
     "end_time": "2020-04-02T14:26:48.636732Z",
     "start_time": "2020-04-02T14:26:48.634122Z"
    },
    "scrolled": true
   },
   "outputs": [],
   "source": [
    "W = network_weights(vocab_size=3,embedding_dim=4,hidden_dim=[2], num_classes=2)"
   ]
  },
  {
   "cell_type": "markdown",
   "metadata": {
    "ExecuteTime": {
     "end_time": "2020-04-01T10:31:57.970152Z",
     "start_time": "2020-04-01T10:31:57.966123Z"
    }
   },
   "source": [
    "Then you need to develop a `softmax` function (same as in Assignment 1) to be used in the output layer. \n",
    "\n",
    "It takes as input `z` (array of real numbers) and returns `sig` (the softmax of `z`)\n",
    "\n"
   ]
  },
  {
   "cell_type": "code",
   "execution_count": 15,
   "metadata": {},
   "outputs": [],
   "source": [
    "def softmax(z):\n",
    "    sig = np.exp(z) / np.sum(np.exp(z))\n",
    "    return sig"
   ]
  },
  {
   "cell_type": "markdown",
   "metadata": {},
   "source": [
    "Now you need to implement the categorical cross entropy loss by slightly modifying the function from Assignment 1 to depend only on the true label `y` and the class probabilities vector `y_preds`:\n"
   ]
  },
  {
   "cell_type": "code",
   "execution_count": 16,
   "metadata": {
    "ExecuteTime": {
     "end_time": "2020-04-02T14:26:51.360838Z",
     "start_time": "2020-04-02T14:26:51.356935Z"
    },
    "scrolled": true
   },
   "outputs": [],
   "source": [
    "def categorical_loss(y, y_preds):\n",
    "    l = -1*np.log(y_preds[y])    \n",
    "    return l"
   ]
  },
  {
   "cell_type": "markdown",
   "metadata": {
    "ExecuteTime": {
     "end_time": "2020-03-31T15:02:56.149535Z",
     "start_time": "2020-03-31T15:02:56.145738Z"
    }
   },
   "source": [
    "Then, implement the `relu` function to introduce non-linearity after each hidden layer of your network \n",
    "(during the forward pass): \n",
    "\n",
    "$$relu(z_i)= max(z_i,0)$$\n",
    "\n",
    "and the `relu_derivative` function to compute its derivative (used in the backward pass):\n",
    "\n",
    "  \n",
    "  relu_derivative($z_i$)=0, if $z_i$<=0, 1 otherwise.\n",
    "  \n",
    "\n",
    "\n",
    "Note that both functions take as input a vector $z$ \n",
    "\n",
    "Hint use .copy() to avoid in place changes in array z"
   ]
  },
  {
   "cell_type": "code",
   "execution_count": 17,
   "metadata": {
    "ExecuteTime": {
     "end_time": "2020-04-02T14:26:52.665236Z",
     "start_time": "2020-04-02T14:26:52.661519Z"
    },
    "scrolled": true
   },
   "outputs": [],
   "source": [
    "def relu(z):\n",
    "    a = z.copy()\n",
    "    a = a * ((a > 0).astype(int))    # ReLU: y = max(x,0) \n",
    "    return a\n",
    "    \n",
    "def relu_derivative(z):\n",
    "    dz = z.copy()\n",
    "    dz[dz<=0] = 0                    # d(relu(x)) = 0 if x < 0\n",
    "    dz[dz>0] = 1                     # d(relu(x)) = 1 if x >= 0\n",
    "    return dz"
   ]
  },
  {
   "cell_type": "markdown",
   "metadata": {},
   "source": [
    "During training you should also apply a dropout mask element-wise after the activation function (i.e. vector of ones with a random percentage set to zero). The `dropout_mask` function takes as input:\n",
    "\n",
    "- `size`: the size of the vector that we want to apply dropout\n",
    "- `dropout_rate`: the percentage of elements that will be randomly set to zeros\n",
    "\n",
    "and returns:\n",
    "\n",
    "- `dropout_vec`: a vector with binary values (0 or 1)"
   ]
  },
  {
   "cell_type": "code",
   "execution_count": 18,
   "metadata": {
    "ExecuteTime": {
     "end_time": "2020-04-02T14:26:53.429192Z",
     "start_time": "2020-04-02T14:26:53.425301Z"
    },
    "scrolled": true
   },
   "outputs": [],
   "source": [
    "def dropout_mask(size, dropout_rate):\n",
    "    dropout_vec = np.random.choice([0, 1], size, p=[dropout_rate, 1 - dropout_rate])\n",
    "    return dropout_vec"
   ]
  },
  {
   "cell_type": "code",
   "execution_count": 19,
   "metadata": {
    "ExecuteTime": {
     "end_time": "2020-04-02T14:26:53.853632Z",
     "start_time": "2020-04-02T14:26:53.849944Z"
    },
    "scrolled": true
   },
   "outputs": [
    {
     "name": "stdout",
     "output_type": "stream",
     "text": [
      "[1 1 1 1 0 1 1 1 1 1]\n",
      "[1 1 1 1 1 0 1 1 1 1]\n"
     ]
    }
   ],
   "source": [
    "print(dropout_mask(10, 0.2))\n",
    "print(dropout_mask(10, 0.2))"
   ]
  },
  {
   "cell_type": "markdown",
   "metadata": {},
   "source": [
    "Now you need to implement the `forward_pass` function that passes the input x through the network up to the output layer for computing the probability for each class using the weight matrices in `W`. The ReLU activation function should be applied on each hidden layer. \n",
    "\n",
    "- `x`: a list of vocabulary indices each corresponding to a word in the document (input)\n",
    "- `W`: a list of weight matrices connecting each part of the network, e.g. for a network with a hidden and an output layer: W[0] is the weight matrix that connects the input to the first hidden layer, W[1] is the weight matrix that connects the hidden layer to the output layer.\n",
    "- `dropout_rate`: the dropout rate that is used to generate a random dropout mask vector applied after each hidden layer for regularisation.\n",
    "\n",
    "and returns:\n",
    "\n",
    "- `out_vals`: a dictionary of output values from each layer: h (the vector before the activation function), a (the resulting vector after passing h from the activation function), its dropout mask vector; and the prediction vector (probability for each class) from the output layer."
   ]
  },
  {
   "cell_type": "code",
   "execution_count": 20,
   "metadata": {
    "ExecuteTime": {
     "end_time": "2020-04-02T14:26:54.761268Z",
     "start_time": "2020-04-02T14:26:54.753402Z"
    },
    "scrolled": true
   },
   "outputs": [],
   "source": [
    "def forward_pass(x, W, dropout_rate=0.2):\n",
    "    \n",
    "    \n",
    "    out_vals = {}\n",
    "    \n",
    "    h_vecs = []\n",
    "    a_vecs = []\n",
    "    dropout_vecs = []\n",
    "\n",
    "\n",
    "    # Embedding layer\n",
    "    layer_1 = np.mean(W[0][x], axis=0)\n",
    "    h_vecs.append(layer_1)\n",
    "\n",
    "    out_1 = relu(layer_1)\n",
    "    a_vecs.append(out_1)\n",
    "\n",
    "    # Applying dropout mask to embedding layer\n",
    "    dropout_vecs.append(dropout_mask(W[0].shape[1], dropout_rate))\n",
    "    out_i = out_1 * dropout_vecs[-1]\n",
    "\n",
    "    # Iterate over hidden layers\n",
    "    for weights in W[1:-1]:\n",
    "        layer_i = out_i.dot(weights)\n",
    "        h_vecs.append(layer_i)\n",
    "\n",
    "        out_i = relu(layer_i)\n",
    "        a_vecs.append(out_i)\n",
    "\n",
    "        dropout_vecs.append(dropout_mask(weights.shape[1], dropout_rate))\n",
    "        out_i *= dropout_vecs[-1]\n",
    "\n",
    "    # Softmax for output layer\n",
    "    y = softmax(out_i.dot(W[-1]))\n",
    "\n",
    "    out_vals = {'hidden_layers': h_vecs, 'outputs': a_vecs, 'dropout_vector': dropout_vecs, 'y': y}\n",
    "    \n",
    "    return out_vals\n",
    "    "
   ]
  },
  {
   "cell_type": "markdown",
   "metadata": {},
   "source": [
    "The `backward_pass` function computes the gradients and updates the weights for each matrix in the network from the output to the input. It takes as input \n",
    "\n",
    "- `x`: a list of vocabulary indices each corresponding to a word in the document (input)\n",
    "- `y`: the true label\n",
    "- `W`: a list of weight matrices connecting each part of the network, e.g. for a network with a hidden and an output layer: W[0] is the weight matrix that connects the input to the first hidden layer, W[1] is the weight matrix that connects the hidden layer to the output layer.\n",
    "- `out_vals`: a dictionary of output values from a forward pass.\n",
    "- `learning_rate`: the learning rate for updating the weights.\n",
    "- `freeze_emb`: boolean value indicating whether the embedding weights will be updated.\n",
    "\n",
    "and returns:\n",
    "\n",
    "- `W`: the updated weights of the network.\n",
    "\n",
    "Hint: the gradients on the output layer are similar to the multiclass logistic regression."
   ]
  },
  {
   "cell_type": "code",
   "execution_count": 21,
   "metadata": {
    "ExecuteTime": {
     "end_time": "2020-05-11T08:24:13.732705Z",
     "start_time": "2020-05-11T08:24:13.729741Z"
    },
    "scrolled": true
   },
   "outputs": [],
   "source": [
    "def backward_pass(x, y, W, out_vals, lr=0.001, freeze_emb=False):\n",
    "    \n",
    "    # gradient calculation of output layer\n",
    "    grad = out_vals['y'] - (np.arange(len(out_vals['y'])) == y)\n",
    "\n",
    "    # gradient calculation of weights\n",
    "    out_layer_input = out_vals['outputs'][-1] * out_vals['dropout_vector'][-1]\n",
    "    grad_on_wt = np.outer(grad, out_layer_input).T\n",
    "\n",
    "    # Gradient propagation\n",
    "    grad = grad.dot(W[-1].T)\n",
    "    \n",
    "    # Weight update\n",
    "    W[-1] -= lr * grad_on_wt\n",
    "\n",
    "    # Update each hidden layer\n",
    "    for i in range(len(W) - 2, 1, -1):\n",
    "        grad *= relu_derivative(out_vals['hidden_layers'][i])\n",
    "\n",
    "        # gradient calculation of weights\n",
    "        layer_input = out_vals['outputs'][i - 1] * out_vals['dropout_vector'][i - 1]\n",
    "        grad_on_wt = np.outer(grad, layer_input).T\n",
    "\n",
    "        # Gradient propagation\n",
    "        grad = grad.dot(W[i].T)\n",
    "\n",
    "        # Weight update\n",
    "        W[i] -= lr * grad_on_wt\n",
    "\n",
    "    # Update weights of the initial layer\n",
    "    if not freeze_emb:\n",
    "        grad *= relu_derivative(out_vals['hidden_layers'][0])\n",
    "        W[0][x] -= lr * grad\n",
    "    \n",
    "    return W\n",
    "\n",
    "\n"
   ]
  },
  {
   "cell_type": "markdown",
   "metadata": {
    "ExecuteTime": {
     "end_time": "2020-02-15T14:08:59.937442Z",
     "start_time": "2020-02-15T14:08:59.932221Z"
    }
   },
   "source": [
    "Finally you need to modify SGD to support back-propagation by using the `forward_pass` and `backward_pass` functions.\n",
    "\n",
    "The `SGD` function takes as input:\n",
    "\n",
    "- `X_tr`: array of training data (vectors)\n",
    "- `Y_tr`: labels of `X_tr`\n",
    "- `W`: the weights of the network (dictionary)\n",
    "- `X_dev`: array of development (i.e. validation) data (vectors)\n",
    "- `Y_dev`: labels of `X_dev`\n",
    "- `lr`: learning rate\n",
    "- `dropout`: regularisation strength\n",
    "- `epochs`: number of full passes over the training data\n",
    "- `tolerance`: stop training if the difference between the current and previous validation loss is smaller than a threshold\n",
    "- `freeze_emb`: boolean value indicating whether the embedding weights will be updated (to be used by the backward pass function).\n",
    "- `print_progress`: flag for printing the training progress (train/validation loss)\n",
    "\n",
    "\n",
    "and returns:\n",
    "\n",
    "- `weights`: the weights learned\n",
    "- `training_loss_history`: an array with the average losses of the whole training set after each epoch\n",
    "- `validation_loss_history`: an array with the average losses of the whole development set after each epoch"
   ]
  },
  {
   "cell_type": "code",
   "execution_count": 22,
   "metadata": {
    "ExecuteTime": {
     "end_time": "2020-04-02T15:09:19.021428Z",
     "start_time": "2020-04-02T15:09:19.017835Z"
    },
    "scrolled": true
   },
   "outputs": [],
   "source": [
    "def SGD(X_tr, Y_tr, W, X_dev=[], Y_dev=[], lr=0.001, \n",
    "        dropout=0.2, epochs=5, tolerance=0.001, freeze_emb=False, \n",
    "        print_progress=True):\n",
    "    # fixing random seed for reproducibility\n",
    "    np.random.seed(123)\n",
    "    training_loss_history = []\n",
    "    validation_loss_history = []\n",
    "\n",
    "    # Training tuples\n",
    "    train_docs = list(zip(X_tr, Y_tr))\n",
    "\n",
    "    for epoch in range(epochs):\n",
    "        # Shuffle the train docs\n",
    "        np.random.shuffle(train_docs)\n",
    "\n",
    "        for x_i, y_i in train_docs:\n",
    "            W = backward_pass(x_i, y_i, W, forward_pass(x_i, W, dropout), lr, freeze_emb)\n",
    "\n",
    "        # Training loss\n",
    "        cur_loss_tr = np.mean([categorical_loss(y_i, forward_pass(x_i, W, dropout)['y'])\n",
    "                               for x_i, y_i in train_docs])\n",
    "\n",
    "        # Validation loss\n",
    "        cur_loss_dev = np.mean([categorical_loss(y_i, forward_pass(x_i, W, dropout)['y'])\n",
    "                                for x_i, y_i in zip(X_dev, Y_dev)])\n",
    "\n",
    "        training_loss_history.append(cur_loss_tr)\n",
    "        validation_loss_history.append(cur_loss_dev)\n",
    "\n",
    "        if print_progress:\n",
    "            print(f'Epoch: {epoch} | Train loss: {cur_loss_tr} | Dev loss: {cur_loss_dev}')\n",
    "    \n",
    "    return W, training_loss_history, validation_loss_history"
   ]
  },
  {
   "cell_type": "markdown",
   "metadata": {
    "ExecuteTime": {
     "end_time": "2020-02-15T14:10:15.772383Z",
     "start_time": "2020-02-15T14:10:15.767855Z"
    }
   },
   "source": [
    "Now you are ready to train and evaluate your neural net. First, you need to define your network using the `network_weights` function followed by SGD with backprop:"
   ]
  },
  {
   "cell_type": "markdown",
   "metadata": {},
   "source": [
    "Put the labels `Y` for train, dev and test sets into arrays: "
   ]
  },
  {
   "cell_type": "code",
   "execution_count": 23,
   "metadata": {
    "ExecuteTime": {
     "end_time": "2020-04-02T15:09:33.643515Z",
     "start_time": "2020-04-02T15:09:33.640943Z"
    },
    "scrolled": true
   },
   "outputs": [
    {
     "name": "stdout",
     "output_type": "stream",
     "text": [
      "Shape W0 (11344, 300)\n",
      "Shape W1 (300, 3)\n",
      "Epoch: 0 | Train loss: 0.881275909589638 | Dev loss: 0.9594298091099738\n",
      "Epoch: 1 | Train loss: 0.5362312974712302 | Dev loss: 0.6674442981919646\n",
      "Epoch: 2 | Train loss: 0.3401338323924496 | Dev loss: 0.4791969983000304\n",
      "Epoch: 3 | Train loss: 0.23960032845146187 | Dev loss: 0.39505032712917215\n",
      "Epoch: 4 | Train loss: 0.17706325096923847 | Dev loss: 0.3462381190193138\n",
      "Epoch: 5 | Train loss: 0.13775933159950668 | Dev loss: 0.32991714516567794\n",
      "Epoch: 6 | Train loss: 0.1077219080650022 | Dev loss: 0.30670102439373004\n",
      "Epoch: 7 | Train loss: 0.08800078090539495 | Dev loss: 0.2790697114315651\n",
      "Epoch: 8 | Train loss: 0.07446441464902362 | Dev loss: 0.2804094326931601\n",
      "Epoch: 9 | Train loss: 0.06252903752471463 | Dev loss: 0.27143164783134344\n",
      "Epoch: 10 | Train loss: 0.0523227840367145 | Dev loss: 0.27451999486831313\n",
      "Epoch: 11 | Train loss: 0.046904319198142946 | Dev loss: 0.2760631450155417\n",
      "Epoch: 12 | Train loss: 0.040601805108514834 | Dev loss: 0.27935075962838674\n",
      "Epoch: 13 | Train loss: 0.03660531043329177 | Dev loss: 0.2678253964828005\n",
      "Epoch: 14 | Train loss: 0.031324033088687545 | Dev loss: 0.2603660697760466\n",
      "Epoch: 15 | Train loss: 0.03035976455082486 | Dev loss: 0.291140647871158\n",
      "Epoch: 16 | Train loss: 0.02630743783098283 | Dev loss: 0.26988565172519047\n",
      "Epoch: 17 | Train loss: 0.024728595804545752 | Dev loss: 0.2651371570230533\n",
      "Epoch: 18 | Train loss: 0.0216252908013037 | Dev loss: 0.27127088538165106\n",
      "Epoch: 19 | Train loss: 0.02096004517137717 | Dev loss: 0.2744806688074885\n",
      "Epoch: 20 | Train loss: 0.01947349703550969 | Dev loss: 0.27211185718824527\n",
      "Epoch: 21 | Train loss: 0.018768450346391272 | Dev loss: 0.2816752953289127\n",
      "Epoch: 22 | Train loss: 0.018146302334816074 | Dev loss: 0.2834890644245255\n",
      "Epoch: 23 | Train loss: 0.015569887437173364 | Dev loss: 0.2839786991313055\n",
      "Epoch: 24 | Train loss: 0.01659801967118364 | Dev loss: 0.30447487640911425\n",
      "Epoch: 25 | Train loss: 0.014848031762236348 | Dev loss: 0.2701487038337955\n",
      "Epoch: 26 | Train loss: 0.014353436312158798 | Dev loss: 0.29066632301104917\n",
      "Epoch: 27 | Train loss: 0.013896618791166685 | Dev loss: 0.2875028538587326\n",
      "Epoch: 28 | Train loss: 0.012258760287562382 | Dev loss: 0.27558924291942544\n",
      "Epoch: 29 | Train loss: 0.012440145627065536 | Dev loss: 0.296132703531991\n",
      "Epoch: 30 | Train loss: 0.011360927314592383 | Dev loss: 0.2830028789012021\n",
      "Epoch: 31 | Train loss: 0.011751781471249773 | Dev loss: 0.30461069162490967\n",
      "Epoch: 32 | Train loss: 0.01144885522553659 | Dev loss: 0.3056122312971461\n",
      "Epoch: 33 | Train loss: 0.010471693829591313 | Dev loss: 0.2927539913566437\n",
      "Epoch: 34 | Train loss: 0.009615530943519062 | Dev loss: 0.2934693929388047\n",
      "Epoch: 35 | Train loss: 0.00970452016790256 | Dev loss: 0.3129409759874335\n",
      "Epoch: 36 | Train loss: 0.00978200497925482 | Dev loss: 0.30100507868117843\n",
      "Epoch: 37 | Train loss: 0.009423239986440268 | Dev loss: 0.3008246427958908\n",
      "Epoch: 38 | Train loss: 0.00906168424287972 | Dev loss: 0.32295119912433845\n",
      "Epoch: 39 | Train loss: 0.00879220283449219 | Dev loss: 0.3068684217571403\n",
      "Epoch: 40 | Train loss: 0.008957509683135266 | Dev loss: 0.2967336416221999\n",
      "Epoch: 41 | Train loss: 0.008519321375075117 | Dev loss: 0.31596707482723096\n",
      "Epoch: 42 | Train loss: 0.008602578398121855 | Dev loss: 0.3021177971814721\n",
      "Epoch: 43 | Train loss: 0.008496500150488716 | Dev loss: 0.3079680028998684\n",
      "Epoch: 44 | Train loss: 0.0071072945078662075 | Dev loss: 0.29960241234322427\n",
      "Epoch: 45 | Train loss: 0.008728174619115969 | Dev loss: 0.3078214525618194\n",
      "Epoch: 46 | Train loss: 0.007306610047599766 | Dev loss: 0.31822431451727334\n",
      "Epoch: 47 | Train loss: 0.007180287040805518 | Dev loss: 0.30935664791896317\n",
      "Epoch: 48 | Train loss: 0.007315013481672852 | Dev loss: 0.3195676505494267\n",
      "Epoch: 49 | Train loss: 0.006536184700396617 | Dev loss: 0.31841596771290276\n",
      "Epoch: 50 | Train loss: 0.006819476049760197 | Dev loss: 0.3004529082597744\n",
      "Epoch: 51 | Train loss: 0.0066723648970225145 | Dev loss: 0.31378408490984244\n",
      "Epoch: 52 | Train loss: 0.007280957694949046 | Dev loss: 0.32255799508551786\n",
      "Epoch: 53 | Train loss: 0.006495893521942154 | Dev loss: 0.3217948528342483\n"
     ]
    }
   ],
   "source": [
    "W = network_weights(vocab_size=len(sorted(vocabulary.union(vocabulary_dev).union(vocabulary_test))),\n",
    "                    embedding_dim=300, hidden_dim=[], num_classes=3)\n",
    "\n",
    "W, loss_train,loss_dev = SGD(X_tr=train_idx, Y_tr=labels, W=W, X_dev=dev_idx, Y_dev=labels_dev,\n",
    "                           lr=0.016, dropout=0.2, freeze_emb=False, epochs=54)\n"
   ]
  },
  {
   "cell_type": "markdown",
   "metadata": {},
   "source": [
    "Plot the learning process:"
   ]
  },
  {
   "cell_type": "code",
   "execution_count": 24,
   "metadata": {
    "ExecuteTime": {
     "end_time": "2020-04-02T14:27:15.716497Z",
     "start_time": "2020-04-02T14:27:15.612736Z"
    },
    "scrolled": true
   },
   "outputs": [
    {
     "data": {
      "image/png": "[encoded data removed]",
      "text/plain": [
       "<Figure size 432x288 with 1 Axes>"
      ]
     },
     "metadata": {
      "needs_background": "light"
     },
     "output_type": "display_data"
    }
   ],
   "source": [
    "plt.plot(loss_train, label='train loss')\n",
    "plt.plot(loss_dev, label='dev loss')\n",
    "\n",
    "plt.xlabel('Epoch')\n",
    "plt.ylabel('Loss')\n",
    "\n",
    "plt.legend()\n",
    "plt.show()"
   ]
  },
  {
   "cell_type": "markdown",
   "metadata": {},
   "source": [
    "Compute accuracy, precision, recall and F1-Score:"
   ]
  },
  {
   "cell_type": "code",
   "execution_count": 25,
   "metadata": {
    "ExecuteTime": {
     "end_time": "2020-04-02T15:10:11.037495Z",
     "start_time": "2020-04-02T15:10:11.034999Z"
    },
    "scrolled": true
   },
   "outputs": [
    {
     "name": "stdout",
     "output_type": "stream",
     "text": [
      "Accuracy: 0.8511111111111112\n",
      "Precision: 0.8529221450313959\n",
      "Recall: 0.851111111111111\n",
      "F1-Score: 0.8508610210397762\n"
     ]
    }
   ],
   "source": [
    "preds_te = [np.argmax(forward_pass(x, W, dropout_rate=0.0)['y']) \n",
    "            for x,y in zip(test_idx,labels_test)]\n",
    "\n",
    "print('Accuracy:', accuracy_score(labels_test,preds_te))\n",
    "print('Precision:', precision_score(labels_test,preds_te,average='macro'))\n",
    "print('Recall:', recall_score(labels_test,preds_te,average='macro'))\n",
    "print('F1-Score:', f1_score(labels_test,preds_te,average='macro'))"
   ]
  },
  {
   "cell_type": "markdown",
   "metadata": {},
   "source": [
    "### Discuss how did you choose model hyperparameters ? "
   ]
  },
  {
   "cell_type": "markdown",
   "metadata": {
    "scrolled": true
   },
   "source": [
    "The weights have been initialised by He weight initialisation method as it is proven to be effective with ReLU activation function\n",
    "\n",
    "The optimal value of initial weights depends on the learning rate (lr), the embedding dimension (embedding_dim).\n",
    "\n",
    "Coming to embedding dimension, if we select a too big value, the model might saturate (or stop to learn further) and overfit. In contrast if a value too small is selected, then the model might not learn the relation resulting in underfitting.\n",
    "\n",
    "Hyperparameters to which model performed the best were Embedding dimension: 300, Learning rate: 0.016, Dropout rate: 0.2"
   ]
  },
  {
   "cell_type": "markdown",
   "metadata": {},
   "source": [
    "# Use Pre-trained Embeddings\n",
    "\n",
    "Now re-train the network using GloVe pre-trained embeddings. You need to modify the `backward_pass` function above to stop computing gradients and updating weights of the embedding matrix.\n",
    "\n",
    "Use the function below to obtain the embedding martix for your vocabulary. Generally, that should work without any problem. If you get errors, you can modify it."
   ]
  },
  {
   "cell_type": "code",
   "execution_count": 26,
   "metadata": {
    "ExecuteTime": {
     "end_time": "2020-04-02T14:27:32.020697Z",
     "start_time": "2020-04-02T14:27:32.015733Z"
    },
    "scrolled": true
   },
   "outputs": [],
   "source": [
    "def get_glove_embeddings(f_zip, f_txt, word2id, emb_size=300):\n",
    "    \n",
    "    w_emb = np.zeros((len(word2id), emb_size))\n",
    "    \n",
    "    with zipfile.ZipFile(f_zip) as z:\n",
    "        with z.open(f_txt) as f:\n",
    "            for line in f:\n",
    "                line = line.decode('utf-8')\n",
    "                word = line.split(' ')[0]\n",
    "                     \n",
    "                if word in sorted(vocabulary.union(vocabulary_dev).union(vocabulary_test)):\n",
    "                    emb = np.array(line.strip('\\n').split()[1:]).astype(np.float32)\n",
    "                    w_emb[word2id[word]] +=emb\n",
    "    return w_emb"
   ]
  },
  {
   "cell_type": "code",
   "execution_count": 27,
   "metadata": {
    "ExecuteTime": {
     "end_time": "2020-04-02T14:28:54.548613Z",
     "start_time": "2020-04-02T14:27:32.780248Z"
    },
    "scrolled": true
   },
   "outputs": [],
   "source": [
    "w_glove = get_glove_embeddings(\"glove.840B.300d.zip\",\"glove.840B.300d.txt\",word2id=word_voc)"
   ]
  },
  {
   "cell_type": "markdown",
   "metadata": {},
   "source": [
    "First, initialise the weights of your network using the `network_weights` function. Second, replace the weigths of the embedding matrix with `w_glove`. Finally, train the network by freezing the embedding weights: "
   ]
  },
  {
   "cell_type": "code",
   "execution_count": 28,
   "metadata": {
    "ExecuteTime": {
     "end_time": "2020-04-02T14:30:11.121198Z",
     "start_time": "2020-04-02T14:29:24.946124Z"
    },
    "scrolled": true
   },
   "outputs": [
    {
     "name": "stdout",
     "output_type": "stream",
     "text": [
      "Shape W0 (11344, 300)\n",
      "Shape W1 (300, 3)\n",
      "Epoch: 0 | Train loss: 0.3879472010213065 | Dev loss: 0.32089311198962406\n",
      "Epoch: 1 | Train loss: 0.36659137659716845 | Dev loss: 0.2636870253953373\n",
      "Epoch: 2 | Train loss: 0.32386867178906137 | Dev loss: 0.23035256150574962\n",
      "Epoch: 3 | Train loss: 0.3082061062895718 | Dev loss: 0.22479596213206635\n",
      "Epoch: 4 | Train loss: 0.30023108545420374 | Dev loss: 0.22538128609198044\n",
      "Epoch: 5 | Train loss: 0.29305444489672494 | Dev loss: 0.21034711939626793\n",
      "Epoch: 6 | Train loss: 0.31575920664570284 | Dev loss: 0.22575548867080253\n",
      "Epoch: 7 | Train loss: 0.29422720433468513 | Dev loss: 0.21750139090764767\n",
      "Epoch: 8 | Train loss: 0.31242163714183446 | Dev loss: 0.26699559890439245\n",
      "Epoch: 9 | Train loss: 0.3011365297118272 | Dev loss: 0.19985841588226805\n",
      "Epoch: 10 | Train loss: 0.2749703134574406 | Dev loss: 0.19441751185499573\n",
      "Epoch: 11 | Train loss: 0.2739111576877877 | Dev loss: 0.19051321697174667\n",
      "Epoch: 12 | Train loss: 0.2981875026488866 | Dev loss: 0.2526677705849998\n",
      "Epoch: 13 | Train loss: 0.2586718748763493 | Dev loss: 0.19371483896842293\n",
      "Epoch: 14 | Train loss: 0.32371754785650647 | Dev loss: 0.3247564467704153\n",
      "Epoch: 15 | Train loss: 0.2642202956657589 | Dev loss: 0.22406210045354386\n",
      "Epoch: 16 | Train loss: 0.2787872863132733 | Dev loss: 0.220542102998207\n",
      "Epoch: 17 | Train loss: 0.2634239816066807 | Dev loss: 0.17505940206864465\n",
      "Epoch: 18 | Train loss: 0.2677197027664615 | Dev loss: 0.23797352810332573\n",
      "Epoch: 19 | Train loss: 0.2649467525751475 | Dev loss: 0.20848881847494713\n",
      "Epoch: 20 | Train loss: 0.2558123806129475 | Dev loss: 0.20442025673663045\n",
      "Epoch: 21 | Train loss: 0.26063260285893897 | Dev loss: 0.19369960292721244\n",
      "Epoch: 22 | Train loss: 0.2569564176012047 | Dev loss: 0.18049081730266997\n",
      "Epoch: 23 | Train loss: 0.275971304144619 | Dev loss: 0.25332555725643147\n",
      "Epoch: 24 | Train loss: 0.26811745651507635 | Dev loss: 0.23780782318233065\n",
      "Epoch: 25 | Train loss: 0.27460309461221244 | Dev loss: 0.21540935855981927\n",
      "Epoch: 26 | Train loss: 0.25602283230403666 | Dev loss: 0.2181173577636634\n",
      "Epoch: 27 | Train loss: 0.26065471123833417 | Dev loss: 0.22600505369346857\n",
      "Epoch: 28 | Train loss: 0.24607956072987244 | Dev loss: 0.1856736543568221\n",
      "Epoch: 29 | Train loss: 0.24813921536827904 | Dev loss: 0.19490146329145516\n",
      "Epoch: 30 | Train loss: 0.2749756119053209 | Dev loss: 0.21665684302097346\n",
      "Epoch: 31 | Train loss: 0.2500245629215352 | Dev loss: 0.2217729878499369\n",
      "Epoch: 32 | Train loss: 0.2783646956130854 | Dev loss: 0.26635361480818665\n",
      "Epoch: 33 | Train loss: 0.2695737498725336 | Dev loss: 0.28113763510820033\n",
      "Epoch: 34 | Train loss: 0.2532594995558648 | Dev loss: 0.20437117742584515\n"
     ]
    }
   ],
   "source": [
    "W = network_weights(vocab_size=len(sorted(vocabulary.union(vocabulary_dev).union(vocabulary_test))),\n",
    "                    embedding_dim=300,\n",
    "                    num_classes=3)\n",
    "W[0] = w_glove\n",
    "\n",
    "W, tr_loss,_ = SGD(X_tr=train_idx, Y_tr=labels, W=W, X_dev=dev_idx, Y_dev=labels_dev,\n",
    "                           lr=0.10, dropout=0.2, freeze_emb=True, epochs=35)"
   ]
  },
  {
   "cell_type": "code",
   "execution_count": 29,
   "metadata": {
    "ExecuteTime": {
     "end_time": "2020-04-02T15:12:00.815184Z",
     "start_time": "2020-04-02T15:12:00.812563Z"
    },
    "scrolled": true
   },
   "outputs": [
    {
     "name": "stdout",
     "output_type": "stream",
     "text": [
      "Accuracy: 0.8777777777777778\n",
      "Precision: 0.881207814988158\n",
      "Recall: 0.8777777777777778\n",
      "F1-Score: 0.8784433686789922\n"
     ]
    }
   ],
   "source": [
    "preds_te = [np.argmax(forward_pass(x, W, dropout_rate=0.0)['y']) \n",
    "            for x,y in zip(test_idx,labels_test)]\n",
    "\n",
    "print('Accuracy:', accuracy_score(labels_test,preds_te))\n",
    "print('Precision:', precision_score(labels_test,preds_te,average='macro'))\n",
    "print('Recall:', recall_score(labels_test,preds_te,average='macro'))\n",
    "print('F1-Score:', f1_score(labels_test,preds_te,average='macro'))"
   ]
  },
  {
   "cell_type": "markdown",
   "metadata": {},
   "source": [
    "### Discuss how did you choose model hyperparameters ? "
   ]
  },
  {
   "cell_type": "markdown",
   "metadata": {
    "scrolled": true
   },
   "source": [
    "### Optimising Hyperparameters\n",
    "\n",
    "The hyperparameters need to be optimised are lr and dropout rate.\n",
    "\n",
    "\n",
    "lr=0.10 has the highest F1-score at the cost of higher train and dev losses.\n",
    "\n",
    "The dev loss is observed to be lower than the train loss for this model."
   ]
  },
  {
   "cell_type": "markdown",
   "metadata": {},
   "source": [
    "# Extend to support deeper architectures \n",
    "\n",
    "Extend the network to support back-propagation for more hidden layers. You need to modify the `backward_pass` function above to compute gradients and update the weights between intermediate hidden layers. Finally, train and evaluate a network with a deeper architecture. Do deeper architectures increase performance?"
   ]
  },
  {
   "cell_type": "code",
   "execution_count": 30,
   "metadata": {
    "ExecuteTime": {
     "end_time": "2020-04-02T14:58:51.764619Z",
     "start_time": "2020-04-02T14:58:47.483690Z"
    },
    "scrolled": true
   },
   "outputs": [
    {
     "name": "stdout",
     "output_type": "stream",
     "text": [
      "Shape W0 (11344, 300)\n",
      "Shape W1 (300, 1050)\n",
      "Shape W2 (1050, 3)\n",
      "Epoch: 0 | Train loss: 0.45016398645141237 | Dev loss: 0.37786751470706403\n",
      "Epoch: 1 | Train loss: 0.6163294902165168 | Dev loss: 0.4927191595260631\n",
      "Epoch: 2 | Train loss: 0.4168952034156947 | Dev loss: 0.39715280688458904\n",
      "Epoch: 3 | Train loss: 0.36326029786977565 | Dev loss: 0.26709534424918113\n",
      "Epoch: 4 | Train loss: 0.3552192645896218 | Dev loss: 0.22526430485486004\n"
     ]
    }
   ],
   "source": [
    "W = network_weights(vocab_size=len(sorted(vocabulary.union(vocabulary_dev).union(vocabulary_test))),\n",
    "                    embedding_dim=300,\n",
    "                    hidden_dim=[1050],\n",
    "                    num_classes=3)\n",
    "W[0] = w_glove\n",
    "\n",
    "W, tr_loss,_ = SGD(X_tr=train_idx, Y_tr=labels, W=W, X_dev=dev_idx, Y_dev=labels_dev,\n",
    "                           lr=0.16, dropout=0.2, freeze_emb=True, epochs=5)"
   ]
  },
  {
   "cell_type": "code",
   "execution_count": 31,
   "metadata": {
    "ExecuteTime": {
     "end_time": "2020-04-02T15:11:51.994986Z",
     "start_time": "2020-04-02T15:11:51.992563Z"
    },
    "scrolled": true
   },
   "outputs": [
    {
     "name": "stdout",
     "output_type": "stream",
     "text": [
      "Accuracy: 0.8788888888888889\n",
      "Precision: 0.8799635825737934\n",
      "Recall: 0.8788888888888889\n",
      "F1-Score: 0.8787001963934108\n"
     ]
    }
   ],
   "source": [
    "preds_te = [np.argmax(forward_pass(x, W, dropout_rate=0.0)['y']) \n",
    "            for x,y in zip(test_idx,labels_test)]\n",
    "\n",
    "print('Accuracy:', accuracy_score(labels_test,preds_te))\n",
    "print('Precision:', precision_score(labels_test,preds_te,average='macro'))\n",
    "print('Recall:', recall_score(labels_test,preds_te,average='macro'))\n",
    "print('F1-Score:', f1_score(labels_test,preds_te,average='macro'))"
   ]
  },
  {
   "cell_type": "markdown",
   "metadata": {},
   "source": [
    "### Discuss how did you choose model hyperparameters ? "
   ]
  },
  {
   "cell_type": "markdown",
   "metadata": {},
   "source": [
    "Increaing the number of hidden layers increases training time but doesn't necessarily translate into increase in performance.\n",
    "\n",
    "This model is better but more complex to implement than Average Embedding Model.\n",
    "\n",
    "In summary Pre-Trained Embeddings + Hidden Layer Model performs better than just Pre-Trained Embeddings Model at a cost of a significant amount of time for optimal hyperparameter tuning.\n",
    "\n",
    "Hyperparameters to which model performed the best were hidden_dim=[1050], lr=0.16, dropout=0.2"
   ]
  },
  {
   "cell_type": "markdown",
   "metadata": {},
   "source": [
    "## Full Results\n",
    "\n",
    "Add your final results here:\n",
    "\n",
    "| Model | Precision  | Recall  | F1-Score  | Accuracy\n",
    "|:-:|:-:|:-:|:-:|:-:|\n",
    "| Average Embedding  | 85.29%  | 85.11%  | 85.08%  | 85.11%  |\n",
    "| Average Embedding (Pre-trained)  | 88.12%  | 87.78%  | 87.84%  | 87.78%  |\n",
    "| Average Embedding (Pre-trained) + X hidden layers    | 87.99%  | 87.88%  | 87.87%  | 87.88  |\n"
   ]
  },
  {
   "cell_type": "markdown",
   "metadata": {},
   "source": [
    "###### Converting notebook to pdf"
   ]
  },
  {
   "cell_type": "code",
   "execution_count": 32,
   "metadata": {
    "scrolled": true
   },
   "outputs": [
    {
     "name": "stdout",
     "output_type": "stream",
     "text": [
      "Collecting notebook-as-pdf\n",
      "  Downloading notebook_as_pdf-0.5.0-py3-none-any.whl (6.5 kB)\n",
      "Requirement already satisfied, skipping upgrade: nbconvert in d:\\acp20gpk\\lib\\site-packages (from notebook-as-pdf) (5.6.1)\n",
      "Requirement already satisfied, skipping upgrade: pyppeteer in d:\\acp20gpk\\lib\\site-packages (from notebook-as-pdf) (0.2.5)\n",
      "Requirement already satisfied, skipping upgrade: PyPDF2 in d:\\acp20gpk\\lib\\site-packages (from notebook-as-pdf) (1.26.0)\n",
      "Requirement already satisfied, skipping upgrade: jinja2>=2.4 in d:\\acp20gpk\\lib\\site-packages (from nbconvert->notebook-as-pdf) (2.11.2)\n",
      "Requirement already satisfied, skipping upgrade: defusedxml in d:\\acp20gpk\\lib\\site-packages (from nbconvert->notebook-as-pdf) (0.6.0)\n",
      "Requirement already satisfied, skipping upgrade: pandocfilters>=1.4.1 in d:\\acp20gpk\\lib\\site-packages (from nbconvert->notebook-as-pdf) (1.4.2)\n",
      "Requirement already satisfied, skipping upgrade: pygments in d:\\acp20gpk\\lib\\site-packages (from nbconvert->notebook-as-pdf) (2.6.1)\n",
      "Requirement already satisfied, skipping upgrade: entrypoints>=0.2.2 in d:\\acp20gpk\\lib\\site-packages (from nbconvert->notebook-as-pdf) (0.3)\n",
      "Requirement already satisfied, skipping upgrade: traitlets>=4.2 in d:\\acp20gpk\\lib\\site-packages (from nbconvert->notebook-as-pdf) (4.3.3)\n",
      "Requirement already satisfied, skipping upgrade: jupyter-core in d:\\acp20gpk\\lib\\site-packages (from nbconvert->notebook-as-pdf) (4.6.3)\n",
      "Requirement already satisfied, skipping upgrade: testpath in d:\\acp20gpk\\lib\\site-packages (from nbconvert->notebook-as-pdf) (0.4.4)\n",
      "Requirement already satisfied, skipping upgrade: mistune<2,>=0.8.1 in d:\\acp20gpk\\lib\\site-packages (from nbconvert->notebook-as-pdf) (0.8.4)\n",
      "Requirement already satisfied, skipping upgrade: bleach in d:\\acp20gpk\\lib\\site-packages (from nbconvert->notebook-as-pdf) (3.1.5)\n",
      "Requirement already satisfied, skipping upgrade: nbformat>=4.4 in d:\\acp20gpk\\lib\\site-packages (from nbconvert->notebook-as-pdf) (5.0.7)\n",
      "Requirement already satisfied, skipping upgrade: pyee<9.0.0,>=8.1.0 in d:\\acp20gpk\\lib\\site-packages (from pyppeteer->notebook-as-pdf) (8.1.0)\n",
      "Requirement already satisfied, skipping upgrade: appdirs<2.0.0,>=1.4.3 in d:\\acp20gpk\\lib\\site-packages (from pyppeteer->notebook-as-pdf) (1.4.4)\n",
      "Requirement already satisfied, skipping upgrade: urllib3<2.0.0,>=1.25.8 in d:\\acp20gpk\\lib\\site-packages (from pyppeteer->notebook-as-pdf) (1.25.9)\n",
      "Requirement already satisfied, skipping upgrade: websockets<9.0,>=8.1 in d:\\acp20gpk\\lib\\site-packages (from pyppeteer->notebook-as-pdf) (8.1)\n",
      "Requirement already satisfied, skipping upgrade: tqdm<5.0.0,>=4.42.1 in d:\\acp20gpk\\lib\\site-packages (from pyppeteer->notebook-as-pdf) (4.47.0)\n",
      "Requirement already satisfied, skipping upgrade: MarkupSafe>=0.23 in d:\\acp20gpk\\lib\\site-packages (from jinja2>=2.4->nbconvert->notebook-as-pdf) (1.1.1)\n",
      "Requirement already satisfied, skipping upgrade: ipython-genutils in d:\\acp20gpk\\lib\\site-packages (from traitlets>=4.2->nbconvert->notebook-as-pdf) (0.2.0)\n",
      "Requirement already satisfied, skipping upgrade: six in d:\\acp20gpk\\lib\\site-packages (from traitlets>=4.2->nbconvert->notebook-as-pdf) (1.15.0)\n",
      "Requirement already satisfied, skipping upgrade: decorator in d:\\acp20gpk\\lib\\site-packages (from traitlets>=4.2->nbconvert->notebook-as-pdf) (4.4.2)\n",
      "Requirement already satisfied, skipping upgrade: pywin32>=1.0; sys_platform == \"win32\" in d:\\acp20gpk\\lib\\site-packages (from jupyter-core->nbconvert->notebook-as-pdf) (227)\n",
      "Requirement already satisfied, skipping upgrade: webencodings in d:\\acp20gpk\\lib\\site-packages (from bleach->nbconvert->notebook-as-pdf) (0.5.1)\n",
      "Requirement already satisfied, skipping upgrade: packaging in d:\\acp20gpk\\lib\\site-packages (from bleach->nbconvert->notebook-as-pdf) (20.4)\n",
      "Requirement already satisfied, skipping upgrade: jsonschema!=2.5.0,>=2.4 in d:\\acp20gpk\\lib\\site-packages (from nbformat>=4.4->nbconvert->notebook-as-pdf) (3.2.0)\n",
      "Requirement already satisfied, skipping upgrade: pyparsing>=2.0.2 in d:\\acp20gpk\\lib\\site-packages (from packaging->bleach->nbconvert->notebook-as-pdf) (2.4.7)\n",
      "Requirement already satisfied, skipping upgrade: pyrsistent>=0.14.0 in d:\\acp20gpk\\lib\\site-packages (from jsonschema!=2.5.0,>=2.4->nbformat>=4.4->nbconvert->notebook-as-pdf) (0.16.0)\n",
      "Requirement already satisfied, skipping upgrade: attrs>=17.4.0 in d:\\acp20gpk\\lib\\site-packages (from jsonschema!=2.5.0,>=2.4->nbformat>=4.4->nbconvert->notebook-as-pdf) (19.3.0)\n",
      "Requirement already satisfied, skipping upgrade: setuptools in d:\\acp20gpk\\lib\\site-packages (from jsonschema!=2.5.0,>=2.4->nbformat>=4.4->nbconvert->notebook-as-pdf) (49.2.0.post20200714)\n",
      "Installing collected packages: notebook-as-pdf\n",
      "  Attempting uninstall: notebook-as-pdf\n",
      "    Found existing installation: notebook-as-pdf 0.4.0\n",
      "    Uninstalling notebook-as-pdf-0.4.0:\n",
      "      Successfully uninstalled notebook-as-pdf-0.4.0\n",
      "Successfully installed notebook-as-pdf-0.5.0\n"
     ]
    },
    {
     "name": "stderr",
     "output_type": "stream",
     "text": [
      "[W:pyppeteer.command] chromium is already installed.\n"
     ]
    }
   ],
   "source": [
    "!python -m pip install -U notebook-as-pdf\n",
    "!pyppeteer-install"
   ]
  },
  {
   "cell_type": "code",
   "execution_count": null,
   "metadata": {},
   "outputs": [],
   "source": [
    "jupyter-nbconvert --to pdfviahtml assignment2.ipynb"
   ]
  },
  {
   "cell_type": "code",
   "execution_count": null,
   "metadata": {},
   "outputs": [],
   "source": []
  }
 ],
 "metadata": {
  "kernelspec": {
   "display_name": "Python 3",
   "language": "python",
   "name": "python3"
  },
  "language_info": {
   "codemirror_mode": {
    "name": "ipython",
    "version": 3
   },
   "file_extension": ".py",
   "mimetype": "text/x-python",
   "name": "python",
   "nbconvert_exporter": "python",
   "pygments_lexer": "ipython3",
   "version": "3.8.3"
  }
 },
 "nbformat": 4,
 "nbformat_minor": 2
}
